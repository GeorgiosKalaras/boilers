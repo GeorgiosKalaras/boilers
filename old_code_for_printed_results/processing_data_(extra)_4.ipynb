{
  "cells": [
    {
      "cell_type": "code",
      "execution_count": null,
      "metadata": {
        "id": "wa-Kz67Nj3Ny"
      },
      "outputs": [],
      "source": [
        "import os\n",
        "\n",
        "import csv\n",
        "import pandas as pd\n",
        "import matplotlib.pyplot as plt\n",
        "import numpy as np\n",
        "import math\n",
        "\n",
        "import logging\n",
        "import time\n",
        "import tensorflow as tf"
      ]
    },
    {
      "cell_type": "code",
      "execution_count": null,
      "metadata": {
        "colab": {
          "base_uri": "https://localhost:8080/"
        },
        "id": "onR8HRlXkBzg",
        "outputId": "8a9faa52-174a-4d34-ff89-ab5dc1660394"
      },
      "outputs": [
        {
          "name": "stdout",
          "output_type": "stream",
          "text": [
            "Mounted at /content/drive\n"
          ]
        }
      ],
      "source": [
        "from google.colab import drive\n",
        "drive.mount('/content/drive')\n",
        "file_path = '/content/drive/MyDrive/boilers_drive/normalized_df.csv'"
      ]
    },
    {
      "cell_type": "code",
      "execution_count": null,
      "metadata": {
        "colab": {
          "base_uri": "https://localhost:8080/"
        },
        "id": "EFu6EVSBj3Nz",
        "outputId": "c2a2807b-43ea-46d8-d0de-f5780c88ccd3"
      },
      "outputs": [
        {
          "name": "stdout",
          "output_type": "stream",
          "text": [
            "Imported data:\n",
            "                        time    blr_mod_lvl  absorption  insulation  t_r_set  \\\n",
            "0        2022-10-01 00:00:00   0.000000e+00    0.503910    7.457292     15.0   \n",
            "1        2022-10-01 00:01:00   0.000000e+00    0.503910    7.455208     15.0   \n",
            "2        2022-10-01 00:02:00   0.000000e+00    0.518558    7.487500     15.0   \n",
            "3        2022-10-01 00:03:00   0.000000e+00    0.616207    7.426042     15.0   \n",
            "4        2022-10-01 00:04:00   0.000000e+00    0.699210    7.425000     15.0   \n",
            "...                      ...            ...         ...         ...      ...   \n",
            "7331983  2023-04-30 23:55:00  2.871866e-119         NaN    1.604167     17.0   \n",
            "7331984  2023-04-30 23:56:00  1.914578e-119         NaN    1.614583     17.0   \n",
            "7331985  2023-04-30 23:57:00  1.276385e-119         NaN    1.572917     17.0   \n",
            "7331986  2023-04-30 23:58:00  8.509234e-120         NaN    1.511458     17.0   \n",
            "7331987  2023-04-30 23:59:00  5.672823e-120         NaN    1.432203     17.0   \n",
            "\n",
            "             t_out house_id  \n",
            "0        22.342708    home2  \n",
            "1        22.344792    home2  \n",
            "2        22.312500    home2  \n",
            "3        22.373958    home2  \n",
            "4        22.375000    home2  \n",
            "...            ...      ...  \n",
            "7331983  17.395833  home114  \n",
            "7331984  17.385417  home114  \n",
            "7331985  17.427083  home114  \n",
            "7331986  17.488542  home114  \n",
            "7331987  17.567797  home114  \n",
            "\n",
            "[7331988 rows x 7 columns]\n"
          ]
        }
      ],
      "source": [
        "# Specify the file path of your CSV file\n",
        "#file_path = 'normalized_df.csv'\n",
        "\n",
        "# the current script directory\n",
        "# the current working directory\n",
        "#current_dir = os.getcwd()\n",
        "\n",
        "# the path to the CSV file in the parent directory\n",
        "#parent_dir = os.path.abspath(os.path.join(current_dir, os.pardir))\n",
        "#file_path = os.path.join(parent_dir, 'normalized_df.csv')\n",
        "\n",
        "# Read the CSV file\n",
        "data = pd.read_csv(file_path)\n",
        "\n",
        "print(\"Imported data:\")\n",
        "print(data)"
      ]
    },
    {
      "cell_type": "code",
      "execution_count": null,
      "metadata": {
        "colab": {
          "base_uri": "https://localhost:8080/"
        },
        "id": "EN_3lAXbj3N0",
        "outputId": "c9e44986-7dc7-46fe-ba24-e17d5a368809"
      },
      "outputs": [
        {
          "name": "stdout",
          "output_type": "stream",
          "text": [
            "Different houses in data:\n",
            "['home2' 'home9' 'home13' 'home14' 'home34' 'home46' 'home55' 'home67'\n",
            " 'home86' 'home93' 'home101' 'home106' 'home110' 'home43' 'home63'\n",
            " 'home53' 'home79' 'home90' 'home95' 'home5' 'home17' 'home47' 'home51'\n",
            " 'home65' 'home77' 'home89' 'home111' 'home114']\n",
            "Number of different houses:\n",
            "28\n"
          ]
        }
      ],
      "source": [
        "# Different houses in data\n",
        "houses = data['house_id'].unique()\n",
        "print(\"Different houses in data:\")\n",
        "print(houses)\n",
        "print(\"Number of different houses:\")\n",
        "print(len(houses))"
      ]
    },
    {
      "cell_type": "code",
      "execution_count": null,
      "metadata": {
        "id": "P033elOTj3N0"
      },
      "outputs": [],
      "source": [
        "house_datasets = {}\n",
        "for house in houses:\n",
        "    house_datasets[house] = data[data['house_id'] == house]\n",
        "\n",
        "#print(house_datasets)"
      ]
    },
    {
      "cell_type": "markdown",
      "metadata": {
        "id": "fwbpJ2Qmj3N1"
      },
      "source": [
        "**Δημιουργία του encoder decoder transformer**"
      ]
    },
    {
      "cell_type": "code",
      "execution_count": null,
      "metadata": {
        "id": "x01wafJKj3N1"
      },
      "outputs": [],
      "source": [
        "# positional encoding layer\n",
        "def positional_encoding(length, depth):\n",
        "  depth = depth/2\n",
        "\n",
        "  positions = np.arange(length)[:, np.newaxis]     # (seq, 1)\n",
        "  depths = np.arange(depth)[np.newaxis, :]/depth   # (1, depth)\n",
        "\n",
        "  angle_rates = 1 / (10000**depths)         # (1, depth)\n",
        "  angle_rads = positions * angle_rates      # (pos, depth)\n",
        "\n",
        "  pos_encoding = np.concatenate([np.sin(angle_rads), np.cos(angle_rads)], axis=-1)\n",
        "\n",
        "  return tf.cast(pos_encoding, dtype=tf.float32)\n",
        "\n",
        "\n",
        "# positional embedding layer\n",
        "class PositionalEmbedding(tf.keras.layers.Layer):\n",
        "  def __init__(self, vocab_size, d_model):\n",
        "    super().__init__()\n",
        "    self.d_model = d_model\n",
        "    self.embedding = tf.keras.layers.Embedding(vocab_size, d_model, mask_zero=True)\n",
        "    self.pos_encoding = positional_encoding(length=2048, depth=d_model)\n",
        "\n",
        "  def compute_mask(self, *args, **kwargs):\n",
        "    return self.embedding.compute_mask(*args, **kwargs)\n",
        "\n",
        "  def call(self, x):\n",
        "    length = tf.shape(x)[1]\n",
        "    x = self.embedding(x)\n",
        "    # This factor sets the relative scale of the embedding and positonal_encoding.\n",
        "    x *= tf.math.sqrt(tf.cast(self.d_model, tf.float32))\n",
        "    x = x + self.pos_encoding[tf.newaxis, :length, :]\n",
        "    return x"
      ]
    },
    {
      "cell_type": "code",
      "execution_count": null,
      "metadata": {
        "id": "ZRjqbnDpj3N2"
      },
      "outputs": [],
      "source": [
        "# Attention layers\n",
        "# These are all identical except for how the attention is configured\n",
        "\n",
        "# base attention layer\n",
        "class BaseAttention(tf.keras.layers.Layer):\n",
        "  def __init__(self, **kwargs):\n",
        "    super().__init__()\n",
        "    self.mha = tf.keras.layers.MultiHeadAttention(**kwargs)\n",
        "    self.layernorm = tf.keras.layers.LayerNormalization()\n",
        "    self.add = tf.keras.layers.Add()\n",
        "\n",
        "\n",
        "# cross attention layer\n",
        "# (at the center of the Transformer is the cross-attention layer, it connects the encoder and decoder)\n",
        "class CrossAttention(BaseAttention):\n",
        "  def call(self, x, context):\n",
        "    attn_output, attn_scores = self.mha(query=x, key=context, value=context, return_attention_scores=True)\n",
        "    # Cache the attention scores for plotting later.\n",
        "    self.last_attn_scores = attn_scores\n",
        "    x = self.add([x, attn_output])\n",
        "    x = self.layernorm(x)\n",
        "    return x\n",
        "\n",
        "\n",
        "# global self attention layer\n",
        "# (it is responsible for processing the context sequence, and propagating information along its length)\n",
        "class GlobalSelfAttention(BaseAttention):\n",
        "  def call(self, x):\n",
        "    attn_output = self.mha(query=x, value=x, key=x)\n",
        "    x = self.add([x, attn_output])\n",
        "    x = self.layernorm(x)\n",
        "    return x\n",
        "\n",
        "\n",
        "# causal self attention layer\n",
        "# (it does a similar job as the global self attention layer, for the output sequence)\n",
        "class CausalSelfAttention(BaseAttention):\n",
        "  def call(self, x):\n",
        "    attn_output = self.mha(query=x, value=x, key=x, use_causal_mask = True)\n",
        "    x = self.add([x, attn_output])\n",
        "    x = self.layernorm(x)\n",
        "    return x"
      ]
    },
    {
      "cell_type": "code",
      "execution_count": null,
      "metadata": {
        "id": "mQypWHIuj3N2"
      },
      "outputs": [],
      "source": [
        "# feed forward network\n",
        "# (the transformer also includes this point-wise feed-forward network in both the encoder and decoder)\n",
        "class FeedForward(tf.keras.layers.Layer):\n",
        "  def __init__(self, d_model, dff, dropout_rate=0.1):\n",
        "    super().__init__()\n",
        "    self.seq = tf.keras.Sequential([\n",
        "      tf.keras.layers.Dense(dff, activation='relu'),\n",
        "      tf.keras.layers.Dense(d_model),\n",
        "      tf.keras.layers.Dropout(dropout_rate)\n",
        "    ])\n",
        "    self.add = tf.keras.layers.Add()\n",
        "    self.layer_norm = tf.keras.layers.LayerNormalization()\n",
        "\n",
        "  def call(self, x):\n",
        "    x = self.add([x, self.seq(x)])\n",
        "    x = self.layer_norm(x)\n",
        "    return x"
      ]
    },
    {
      "cell_type": "code",
      "execution_count": null,
      "metadata": {
        "id": "5SpzNhEXj3N2"
      },
      "outputs": [],
      "source": [
        "# encoder layer\n",
        "# (the encoder contains a stack of N encoder layers. Where each EncoderLayer contains\n",
        "#   a GlobalSelfAttention and FeedForward layer)\n",
        "class EncoderLayer(tf.keras.layers.Layer):\n",
        "  def __init__(self,*, d_model, num_heads, dff, dropout_rate=0.1):\n",
        "    super().__init__()\n",
        "\n",
        "    self.self_attention = GlobalSelfAttention(num_heads=num_heads, key_dim=d_model, dropout=dropout_rate)\n",
        "\n",
        "    self.ffn = FeedForward(d_model, dff)\n",
        "\n",
        "  def call(self, x):\n",
        "    x = self.self_attention(x)\n",
        "    x = self.ffn(x)\n",
        "    return x"
      ]
    },
    {
      "cell_type": "code",
      "execution_count": null,
      "metadata": {
        "id": "50K_L14Vj3N2"
      },
      "outputs": [],
      "source": [
        "# The Encoder\n",
        "class Encoder(tf.keras.layers.Layer):\n",
        "  def __init__(self, *, num_layers, d_model, num_heads, dff, vocab_size, dropout_rate=0.1):\n",
        "    super().__init__()\n",
        "\n",
        "    self.d_model = d_model\n",
        "    self.num_layers = num_layers\n",
        "    self.pos_embedding = PositionalEmbedding(vocab_size=vocab_size, d_model=d_model)\n",
        "\n",
        "    self.enc_layers = [\n",
        "        EncoderLayer(d_model=d_model, num_heads=num_heads, dff=dff, dropout_rate=dropout_rate)\n",
        "        for _ in range(num_layers)]\n",
        "    self.dropout = tf.keras.layers.Dropout(dropout_rate)\n",
        "\n",
        "\n",
        "  def call(self, x):\n",
        "    # `x` is token-IDs shape: (batch, seq_len)\n",
        "    x = self.pos_embedding(x)  # Shape `(batch_size, seq_len, d_model)`.\n",
        "    # Add dropout.\n",
        "    x = self.dropout(x)\n",
        "    for i in range(self.num_layers):\n",
        "      x = self.enc_layers[i](x)\n",
        "\n",
        "    return x  # Shape `(batch_size, seq_len, d_model)`."
      ]
    },
    {
      "cell_type": "code",
      "execution_count": null,
      "metadata": {
        "id": "lbvX_YJqj3N2"
      },
      "outputs": [],
      "source": [
        "# decoder layer\n",
        "# (the decoder's stack is slightly more complex, with each DecoderLayer containing\n",
        "#   a CausalSelfAttention, a CrossAttention, and a FeedForward layer)\n",
        "class DecoderLayer(tf.keras.layers.Layer):\n",
        "  def __init__(self, *, d_model, num_heads, dff, dropout_rate=0.1):\n",
        "    super(DecoderLayer, self).__init__()\n",
        "\n",
        "    self.causal_self_attention = CausalSelfAttention(\n",
        "        num_heads=num_heads, key_dim=d_model, dropout=dropout_rate)\n",
        "\n",
        "    self.cross_attention = CrossAttention(\n",
        "        num_heads=num_heads, key_dim=d_model, dropout=dropout_rate)\n",
        "\n",
        "    self.ffn = FeedForward(d_model, dff)\n",
        "\n",
        "  def call(self, x, context):\n",
        "    x = self.causal_self_attention(x=x)\n",
        "    x = self.cross_attention(x=x, context=context)\n",
        "    # Cache the last attention scores for plotting later\n",
        "    self.last_attn_scores = self.cross_attention.last_attn_scores\n",
        "    x = self.ffn(x)  # Shape `(batch_size, seq_len, d_model)`.\n",
        "    return x"
      ]
    },
    {
      "cell_type": "code",
      "execution_count": null,
      "metadata": {
        "id": "vJ3156Foj3N2"
      },
      "outputs": [],
      "source": [
        "# The Decoder\n",
        "class Decoder(tf.keras.layers.Layer):\n",
        "  def __init__(self, *, num_layers, d_model, num_heads, dff, vocab_size, dropout_rate=0.1):\n",
        "    super(Decoder, self).__init__()\n",
        "\n",
        "    self.d_model = d_model\n",
        "    self.num_layers = num_layers\n",
        "\n",
        "    self.pos_embedding = PositionalEmbedding(vocab_size=vocab_size, d_model=d_model)\n",
        "    self.dropout = tf.keras.layers.Dropout(dropout_rate)\n",
        "    self.dec_layers = [\n",
        "        DecoderLayer(d_model=d_model, num_heads=num_heads, dff=dff, dropout_rate=dropout_rate)\n",
        "        for _ in range(num_layers)]\n",
        "\n",
        "    self.last_attn_scores = None\n",
        "\n",
        "\n",
        "  def call(self, x, context):\n",
        "    # `x` is token-IDs shape (batch, target_seq_len)\n",
        "    x = self.pos_embedding(x)  # (batch_size, target_seq_len, d_model)\n",
        "    x = self.dropout(x)\n",
        "    for i in range(self.num_layers):\n",
        "      x  = self.dec_layers[i](x, context)\n",
        "\n",
        "    self.last_attn_scores = self.dec_layers[-1].last_attn_scores\n",
        "    # The shape of x is (batch_size, target_seq_len, d_model).\n",
        "    return x"
      ]
    },
    {
      "cell_type": "code",
      "execution_count": null,
      "metadata": {
        "id": "dhH1ren8j3N3"
      },
      "outputs": [],
      "source": [
        "# The Transformer\n",
        "class Transformer(tf.keras.Model):\n",
        "  def __init__(self, *, num_layers, d_model, num_heads, dff,\n",
        "               input_vocab_size, target_vocab_size, dropout_rate=0.1):\n",
        "    super().__init__()\n",
        "\n",
        "    self.encoder = Encoder(num_layers=num_layers, d_model=d_model, num_heads=num_heads, dff=dff,\n",
        "                           vocab_size=input_vocab_size, dropout_rate=dropout_rate)\n",
        "\n",
        "    self.decoder = Decoder(num_layers=num_layers, d_model=d_model, num_heads=num_heads, dff=dff,\n",
        "                           vocab_size=target_vocab_size, dropout_rate=dropout_rate)\n",
        "\n",
        "    #self.final_layer = tf.keras.layers.Dense(target_vocab_size)\n",
        "    self.final_layer = tf.keras.layers.Dense(1)\n",
        "\n",
        "\n",
        "  def call(self, inputs):  # Expecting only one input\n",
        "    x = inputs\n",
        "    context = self.encoder(x)\n",
        "    x = self.decoder(x, context)\n",
        "    logits = self.final_layer(x)\n",
        "    try:\n",
        "      del logits._keras_mask\n",
        "    except AttributeError:\n",
        "      pass\n",
        "    return logits"
      ]
    },
    {
      "cell_type": "markdown",
      "metadata": {
        "id": "nt8LA8qyj3N3"
      },
      "source": [
        "**Preparing the data**"
      ]
    },
    {
      "cell_type": "code",
      "execution_count": null,
      "metadata": {
        "id": "byevh-BWj3N3"
      },
      "outputs": [],
      "source": [
        "# the categories for prediction\n",
        "final_category = 'blr_mod_lvl'\n",
        "prediction_categories = ['blr_mod_lvl', 'absorption', 'insulation', 't_r_set', 't_out']\n"
      ]
    },
    {
      "cell_type": "code",
      "execution_count": null,
      "metadata": {
        "id": "gIQfHKTccfxk"
      },
      "outputs": [],
      "source": [
        "# function to prepare data before use with transformer\n",
        "def prepare_data(house_data, input_category, output_category, minutes_per_day=1440):\n",
        "    # get input and output data\n",
        "    house_data = house_data.sort_values(by='time')\n",
        "    input = house_data[input_category].values\n",
        "    output = house_data[output_category].values\n",
        "\n",
        "    # number of days\n",
        "    days = len(output) // minutes_per_day\n",
        "    # the data into a list of sub-lists, each containing one day's data\n",
        "    input_data = [\n",
        "        input[i * minutes_per_day:(i + 1) * minutes_per_day]\n",
        "        for i in range(days)\n",
        "    ]\n",
        "    output_data = [\n",
        "        output[i * minutes_per_day:(i + 1) * minutes_per_day]\n",
        "        for i in range(days)\n",
        "    ]\n",
        "    # [:, :-1] and [:, 1:] for 2-d arrays\n",
        "    # [:-1],  and [1:] for 1-d arrays (or lists)\n",
        "    # all except last day are inputs (for prediction)\n",
        "    input_data = input_data[:-1]\n",
        "    # all except first day are the corresponding outputs (from prediction)\n",
        "    output_data = output_data[1:]\n",
        "\n",
        "    return input_data, output_data\n"
      ]
    },
    {
      "cell_type": "code",
      "execution_count": null,
      "metadata": {
        "id": "Gv-sbnlwj3N3"
      },
      "outputs": [],
      "source": [
        "# Filter data for the 'absorption' category\n",
        "#category = 'absorption'\n",
        "filtered_data = data[['house_id', 'time', 'blr_mod_lvl', 'absorption', 'insulation', 't_r_set', 't_out']].copy()\n",
        "\n",
        "# We have 1440 minutes per day\n",
        "minutes_per_day = 1440\n",
        "\n",
        "# Function to create input-target pairs for a single house\n",
        "#def create_pairs(house_data, category, minutes_per_day=1440):\n",
        "#    house_data = house_data.sort_values(by='time')\n",
        "#    data = house_data[category].values\n",
        "#    days = len(data) // minutes_per_day\n",
        "#    data = data[:days * minutes_per_day].reshape((days, minutes_per_day))\n",
        "#    input_data = data[:-1]\n",
        "#    target_data = data[1:]\n",
        "#    return input_data, target_data\n",
        "\n",
        "# Initialize lists to store input and target pairs\n",
        "input_data_list, target_data_list = [], []\n",
        "\n",
        "for house_id in houses:\n",
        "    house_data = filtered_data[filtered_data['house_id'] == 'home14']\n",
        "    #input_data, target_data = create_pairs(house_data, category)\n",
        "    input_data, target_data = prepare_data(house_data, 'absorption', 'blr_mod_lvl')\n",
        "    input_data_list.append(input_data)\n",
        "    target_data_list.append(target_data)\n",
        "\n",
        "# Combine all houses' data\n",
        "input_data = np.concatenate(input_data_list, axis=0)\n",
        "target_data = np.concatenate(target_data_list, axis=0)\n"
      ]
    },
    {
      "cell_type": "code",
      "execution_count": null,
      "metadata": {
        "id": "YNKOcptZp4Ql"
      },
      "outputs": [],
      "source": [
        "from sklearn.preprocessing import StandardScaler, MinMaxScaler"
      ]
    },
    {
      "cell_type": "code",
      "execution_count": null,
      "metadata": {
        "id": "Ok33kv7GkuWU"
      },
      "outputs": [],
      "source": [
        "# Data normalization for input and target data\n",
        "scaler_input = MinMaxScaler()\n",
        "scaler_target = MinMaxScaler()\n",
        "\n",
        "# Normalize input\n",
        "input_data = np.array(input_data)\n",
        "input_data_normalized = scaler_input.fit_transform(input_data)\n",
        "\n",
        "# Normalize target\n",
        "target_data = np.array(target_data)\n",
        "target_data_normalized = scaler_target.fit_transform(target_data)\n",
        "\n",
        "# for predictions: normalize-predict-denormalize\n",
        "# Normalize new data\n",
        "# Predict\n",
        "#  predictions_normalized = model.predict(new_input_data_normalized)\n",
        "# Denormalize predictions\n",
        "#  predictions = scaler_target.inverse_transform(predictions_normalized)"
      ]
    },
    {
      "cell_type": "code",
      "execution_count": null,
      "metadata": {
        "id": "7Hu1bCAPhIHB"
      },
      "outputs": [],
      "source": [
        "from sklearn.model_selection import train_test_split"
      ]
    },
    {
      "cell_type": "code",
      "execution_count": null,
      "metadata": {
        "id": "ou2SIOVlg1Bn"
      },
      "outputs": [],
      "source": [
        "# Properly split datasets for train, validation, test\n",
        "# from original data: 80%-20% split, where 20% is for test. from remaining 80% : 80%-20% split, for train and validation\n",
        "\n",
        "batch_size = 8 # Reduce the batch size, in case it helps !\n",
        "\n",
        "# Split the data into train+val and test sets\n",
        "input_train_val, input_test, target_train_val, target_test = train_test_split(input_data, target_data, test_size=0.2, random_state=42)\n",
        "\n",
        "# Further split train+val into train and val sets\n",
        "input_train, input_val, target_train, target_val = train_test_split(input_train_val, target_train_val, test_size=0.2, random_state=42)\n",
        "\n",
        "# Convert to TensorFlow datasets\n",
        "train_dataset = tf.data.Dataset.from_tensor_slices((input_train, target_train))\n",
        "train_dataset = train_dataset.cache().shuffle(1000).batch(batch_size).prefetch(tf.data.experimental.AUTOTUNE)\n",
        "\n",
        "val_dataset = tf.data.Dataset.from_tensor_slices((input_val, target_val))\n",
        "val_dataset = val_dataset.cache().batch(batch_size).prefetch(tf.data.experimental.AUTOTUNE)\n",
        "\n",
        "test_dataset = tf.data.Dataset.from_tensor_slices((input_test, target_test))\n",
        "test_dataset = test_dataset.cache().batch(batch_size).prefetch(tf.data.experimental.AUTOTUNE)\n"
      ]
    },
    {
      "cell_type": "code",
      "execution_count": null,
      "metadata": {
        "id": "FeNznSxDx0kY"
      },
      "outputs": [],
      "source": [
        "# Define the Transformer model\n",
        "#model = Transformer(num_layers=4, d_model=128, num_heads=8, dff=512, input_vocab_size=minutes_per_day,\n",
        "#                    target_vocab_size=minutes_per_day, dropout_rate=0.1) # minutes_per_day = 1440\n",
        "model = Transformer(num_layers=4, d_model=64, num_heads=4, dff=256, input_vocab_size=minutes_per_day,\n",
        "                    target_vocab_size=minutes_per_day, dropout_rate=0.1) # minutes_per_day = 1440\n",
        "\n",
        "# Compile the model\n",
        "model.compile(optimizer=tf.keras.optimizers.Adam(learning_rate=0.001),\n",
        "              loss=tf.keras.losses.MeanSquaredError(),\n",
        "              metrics=[tf.keras.metrics.MeanAbsoluteError()])"
      ]
    },
    {
      "cell_type": "code",
      "execution_count": null,
      "metadata": {
        "id": "Q36rI99sojka"
      },
      "outputs": [],
      "source": [
        "# Evaluate the model to inspect shapes\n",
        "#predictions = model.predict(train_dataset.take(1)) # Get predictions for one batch\n",
        "#print(\"Shape of predictions:\", predictions.shape)\n",
        "#print(\"Shape of target batch:\", next(iter(train_dataset))[1].shape)"
      ]
    },
    {
      "cell_type": "code",
      "execution_count": null,
      "metadata": {
        "id": "XBewxaBNl_Cs"
      },
      "outputs": [],
      "source": [
        "# Train the model\n",
        "#model.fit(dataset, epochs=10)"
      ]
    },
    {
      "cell_type": "code",
      "execution_count": null,
      "metadata": {
        "colab": {
          "base_uri": "https://localhost:8080/"
        },
        "id": "lzVc2U2WfVQi",
        "outputId": "71017e59-b9a0-44c4-803a-e18972504f09"
      },
      "outputs": [
        {
          "name": "stdout",
          "output_type": "stream",
          "text": [
            "Epoch 1/20\n",
            "383/383 [==============================] - 300s 784ms/step - loss: 186.9140 - mean_absolute_error: 7.5393 - val_loss: 174.6896 - val_mean_absolute_error: 7.6219\n",
            "Epoch 2/20\n",
            "383/383 [==============================] - 322s 841ms/step - loss: 164.2867 - mean_absolute_error: 6.7835 - val_loss: 131.5309 - val_mean_absolute_error: 6.0376\n",
            "Epoch 3/20\n",
            "383/383 [==============================] - 323s 843ms/step - loss: 121.8305 - mean_absolute_error: 5.4450 - val_loss: 108.2460 - val_mean_absolute_error: 4.9295\n",
            "Epoch 4/20\n",
            "383/383 [==============================] - 308s 804ms/step - loss: 87.8329 - mean_absolute_error: 4.3673 - val_loss: 68.3476 - val_mean_absolute_error: 3.4570\n",
            "Epoch 5/20\n",
            "383/383 [==============================] - 307s 802ms/step - loss: 66.3847 - mean_absolute_error: 3.6483 - val_loss: 50.0868 - val_mean_absolute_error: 2.6989\n",
            "Epoch 6/20\n",
            "383/383 [==============================] - 308s 805ms/step - loss: 52.8919 - mean_absolute_error: 3.1606 - val_loss: 38.4619 - val_mean_absolute_error: 2.3403\n",
            "Epoch 7/20\n",
            "383/383 [==============================] - 307s 802ms/step - loss: 44.4001 - mean_absolute_error: 2.8291 - val_loss: 36.7948 - val_mean_absolute_error: 2.3485\n",
            "Epoch 8/20\n",
            "383/383 [==============================] - 308s 804ms/step - loss: 38.0355 - mean_absolute_error: 2.5668 - val_loss: 25.6588 - val_mean_absolute_error: 1.7936\n",
            "Epoch 9/20\n",
            "383/383 [==============================] - 322s 841ms/step - loss: 32.7625 - mean_absolute_error: 2.3448 - val_loss: 24.1237 - val_mean_absolute_error: 1.8044\n",
            "Epoch 10/20\n",
            "383/383 [==============================] - 308s 805ms/step - loss: 28.0886 - mean_absolute_error: 2.1531 - val_loss: 21.1908 - val_mean_absolute_error: 1.5870\n",
            "Epoch 11/20\n",
            "383/383 [==============================] - 308s 804ms/step - loss: 24.4844 - mean_absolute_error: 1.9909 - val_loss: 18.8819 - val_mean_absolute_error: 1.4335\n",
            "Epoch 12/20\n",
            "383/383 [==============================] - 307s 803ms/step - loss: 22.3309 - mean_absolute_error: 1.8906 - val_loss: 17.0833 - val_mean_absolute_error: 1.4662\n",
            "Epoch 13/20\n",
            "383/383 [==============================] - 307s 802ms/step - loss: 22.3437 - mean_absolute_error: 1.8820 - val_loss: 19.0261 - val_mean_absolute_error: 1.4815\n",
            "Epoch 14/20\n",
            "383/383 [==============================] - 308s 803ms/step - loss: 20.7146 - mean_absolute_error: 1.8012 - val_loss: 14.7426 - val_mean_absolute_error: 1.3936\n",
            "Epoch 15/20\n",
            "383/383 [==============================] - 308s 805ms/step - loss: 20.3546 - mean_absolute_error: 1.7755 - val_loss: 18.6850 - val_mean_absolute_error: 1.4890\n",
            "Epoch 16/20\n",
            "383/383 [==============================] - 308s 803ms/step - loss: 18.2395 - mean_absolute_error: 1.6777 - val_loss: 12.8546 - val_mean_absolute_error: 1.2624\n",
            "Epoch 17/20\n",
            "383/383 [==============================] - 322s 842ms/step - loss: 15.6954 - mean_absolute_error: 1.5540 - val_loss: 13.2568 - val_mean_absolute_error: 1.3734\n",
            "Epoch 18/20\n",
            "383/383 [==============================] - 308s 805ms/step - loss: 15.5658 - mean_absolute_error: 1.5457 - val_loss: 12.2740 - val_mean_absolute_error: 1.2070\n",
            "Epoch 19/20\n",
            "383/383 [==============================] - 308s 804ms/step - loss: 16.9251 - mean_absolute_error: 1.6063 - val_loss: 15.1931 - val_mean_absolute_error: 1.4256\n",
            "Epoch 20/20\n",
            "383/383 [==============================] - 308s 804ms/step - loss: 23.5075 - mean_absolute_error: 1.8827 - val_loss: 11.3266 - val_mean_absolute_error: 1.1677\n"
          ]
        }
      ],
      "source": [
        "# Define the EarlyStopping callback\n",
        "early_stopping = tf.keras.callbacks.EarlyStopping(\n",
        "    monitor='val_loss',  # Metric to monitor\n",
        "    patience=5,          # Number of epochs with no improvement after which training will be stopped\n",
        "    verbose=1,           # Verbosity mode\n",
        "    restore_best_weights=True  # Whether to restore model weights from the epoch with the best value of the monitored quantity\n",
        ")\n",
        "\n",
        "# Train the model with the EarlyStopping callback\n",
        "history = model.fit(\n",
        "    train_dataset,       # Training dataset\n",
        "    epochs=20,          # Number of epochs\n",
        "    validation_data=val_dataset,  # Validation dataset\n",
        "    callbacks=[early_stopping]  # List of callbacks to apply during training\n",
        ")\n",
        "# change epochs, patience , etc !!! (e.g. epochs=10, patience=3  or  epochs=20, patience=5)"
      ]
    },
    {
      "cell_type": "code",
      "execution_count": null,
      "metadata": {
        "colab": {
          "base_uri": "https://localhost:8080/"
        },
        "id": "d7GAXgAIiX4P",
        "outputId": "c86fd22f-8baf-474b-fa49-0c8cad2ffb4c"
      },
      "outputs": [
        {
          "name": "stdout",
          "output_type": "stream",
          "text": [
            "120/120 [==============================] - 34s 283ms/step - loss: 11.7633 - mean_absolute_error: 1.2078\n"
          ]
        }
      ],
      "source": [
        "# Evaluate the model on the test dataset\n",
        "test_results = model.evaluate(test_dataset, return_dict=True)\n",
        "#print(f\"Test Loss (MSE): {test_results['loss']}, Test MAE: {test_results['mean_absolute_error']}\")\n",
        "\n",
        "# model.predict() !!! (not model.evaluate)"
      ]
    },
    {
      "cell_type": "code",
      "execution_count": null,
      "metadata": {
        "colab": {
          "base_uri": "https://localhost:8080/"
        },
        "id": "_M9GC24xHiLN",
        "outputId": "83d4ea79-82e3-4a53-8e4e-87ef2e7add89"
      },
      "outputs": [
        {
          "name": "stdout",
          "output_type": "stream",
          "text": [
            "120/120 [==============================] - 35s 280ms/step\n"
          ]
        }
      ],
      "source": [
        "predictions = model.predict(test_dataset)"
      ]
    },
    {
      "cell_type": "code",
      "execution_count": null,
      "metadata": {
        "colab": {
          "base_uri": "https://localhost:8080/",
          "height": 507
        },
        "id": "EIxdGKklzwG7",
        "outputId": "55aa51a8-450f-4fb2-cb05-f76ba071fd22"
      },
      "outputs": [
        {
          "data": {
            "image/png": "[encoded data removed]",
            "text/plain": [
              "<Figure size 1400x500 with 2 Axes>"
            ]
          },
          "metadata": {},
          "output_type": "display_data"
        }
      ],
      "source": [
        "# Plotting the training and validation loss and MAE\n",
        "plt.figure(figsize=(14, 5))\n",
        "\n",
        "# Plot training & validation loss values\n",
        "plt.subplot(1, 2, 1)\n",
        "plt.plot(history.history['loss'], label='Training Loss')\n",
        "plt.plot(history.history['val_loss'], label='Validation Loss')\n",
        "plt.title('Model Loss')\n",
        "plt.xlabel('Epoch')\n",
        "plt.ylabel('Loss (MSE)')\n",
        "plt.legend(loc='upper right')\n",
        "\n",
        "# Plot training & validation MAE values\n",
        "plt.subplot(1, 2, 2)\n",
        "plt.plot(history.history['mean_absolute_error'], label='Training MAE')\n",
        "plt.plot(history.history['val_mean_absolute_error'], label='Validation MAE')\n",
        "plt.title('Model Mean Absolute Error')\n",
        "plt.xlabel('Epoch')\n",
        "plt.ylabel('MAE')\n",
        "plt.legend(loc='upper right')\n",
        "\n",
        "plt.tight_layout()\n",
        "plt.show()"
      ]
    }
  ],
  "metadata": {
    "accelerator": "GPU",
    "colab": {
      "gpuType": "T4",
      "provenance": []
    },
    "kernelspec": {
      "display_name": "Python 3",
      "name": "python3"
    },
    "language_info": {
      "codemirror_mode": {
        "name": "ipython",
        "version": 3
      },
      "file_extension": ".py",
      "mimetype": "text/x-python",
      "name": "python",
      "nbconvert_exporter": "python",
      "pygments_lexer": "ipython3",
      "version": "3.12.1"
    }
  },
  "nbformat": 4,
  "nbformat_minor": 0
}
